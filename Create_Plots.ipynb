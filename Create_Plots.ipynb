{
 "cells": [
  {
   "cell_type": "code",
   "execution_count": 1,
   "metadata": {
    "collapsed": false,
    "deletable": true,
    "editable": true
   },
   "outputs": [
    {
     "data": {
      "text/html": [
       "<style>.container { width:99% !important; }</style>"
      ],
      "text/plain": [
       "<IPython.core.display.HTML object>"
      ]
     },
     "metadata": {},
     "output_type": "display_data"
    },
    {
     "data": {
      "text/html": [
       "\n",
       "<style>\n",
       "\n",
       "div.cell { /* Tunes the space between cells */\n",
       "margin-top:1em;\n",
       "margin-bottom:1em;\n",
       "}\n",
       "\n",
       "div.text_cell_render h1 { /* Main titles bigger, centered */\n",
       "font-size: 2.2em;\n",
       "line-height:1.4em;\n",
       "text-align:center;\n",
       "}\n",
       "\n",
       "div.text_cell_render h2 { /*  Parts names nearer from text */\n",
       "margin-bottom: -.4em;\n",
       "}\n",
       "\n",
       "\n",
       "div.text_cell_render { /* Customize text cells */\n",
       "font-family: 'Times New Roman';\n",
       "font-size:1.8em;\n",
       "line-height:1.1em;\n",
       "padding-left:0em;\n",
       "padding-right:0em;\n",
       "}\n",
       "</style>\n"
      ],
      "text/plain": [
       "<IPython.core.display.HTML object>"
      ]
     },
     "execution_count": 1,
     "metadata": {},
     "output_type": "execute_result"
    }
   ],
   "source": [
    "from IPython.core.display import display, HTML\n",
    "display(HTML(\"<style>.container { width:99% !important; }</style>\"))\n",
    "\n",
    "#from IPython.core.display import HTML\n",
    "HTML(\"\"\"\n",
    "<style>\n",
    "\n",
    "div.cell { /* Tunes the space between cells */\n",
    "margin-top:1em;\n",
    "margin-bottom:1em;\n",
    "}\n",
    "\n",
    "div.text_cell_render h1 { /* Main titles bigger, centered */\n",
    "font-size: 2.2em;\n",
    "line-height:1.4em;\n",
    "text-align:center;\n",
    "}\n",
    "\n",
    "div.text_cell_render h2 { /*  Parts names nearer from text */\n",
    "margin-bottom: -.4em;\n",
    "}\n",
    "\n",
    "\n",
    "div.text_cell_render { /* Customize text cells */\n",
    "font-family: 'Times New Roman';\n",
    "font-size:1.8em;\n",
    "line-height:1.1em;\n",
    "padding-left:0em;\n",
    "padding-right:0em;\n",
    "}\n",
    "</style>\n",
    "\"\"\")\n",
    "\n"
   ]
  },
  {
   "cell_type": "code",
   "execution_count": 2,
   "metadata": {
    "collapsed": false,
    "deletable": true,
    "editable": true
   },
   "outputs": [
    {
     "name": "stdout",
     "output_type": "stream",
     "text": [
      "Populating the interactive namespace from numpy and matplotlib\n"
     ]
    }
   ],
   "source": [
    "%pylab inline\n",
    "import matplotlib\n",
    "from scipy.interpolate import interp1d\n",
    "from scipy.optimize import curve_fit\n",
    "from scipy import fft, arange\n",
    "pylab.rcParams['figure.figsize'] = (12, 8)\n",
    "matplotlib.rcParams.update({'font.size': 25,'legend.fontsize':25,'font.family': 'serif'})\n",
    "#print(plt.style.available)\n",
    "#style.use('dark_background')"
   ]
  },
  {
   "cell_type": "code",
   "execution_count": 3,
   "metadata": {
    "collapsed": false,
    "deletable": true,
    "editable": true
   },
   "outputs": [
    {
     "ename": "ImportError",
     "evalue": "No module named statistics",
     "output_type": "error",
     "traceback": [
      "\u001b[0;31m---------------------------------------------------------------------------\u001b[0m",
      "\u001b[0;31mImportError\u001b[0m                               Traceback (most recent call last)",
      "\u001b[0;32m<ipython-input-3-15976b6e8126>\u001b[0m in \u001b[0;36m<module>\u001b[0;34m()\u001b[0m\n\u001b[1;32m      1\u001b[0m \u001b[0;32mfrom\u001b[0m \u001b[0mreadremote\u001b[0m \u001b[0;32mimport\u001b[0m \u001b[0mread_data\u001b[0m\u001b[0;34m,\u001b[0m\u001b[0mfind_exc_prop\u001b[0m\u001b[0;34m\u001b[0m\u001b[0m\n\u001b[0;32m----> 2\u001b[0;31m \u001b[0;32mimport\u001b[0m \u001b[0mstatistics\u001b[0m\u001b[0;34m\u001b[0m\u001b[0m\n\u001b[0m",
      "\u001b[0;31mImportError\u001b[0m: No module named statistics"
     ]
    }
   ],
   "source": [
    "from readremote import read_data,find_exc_prop\n",
    "import statistics"
   ]
  },
  {
   "cell_type": "code",
   "execution_count": null,
   "metadata": {
    "collapsed": false,
    "deletable": true,
    "editable": true
   },
   "outputs": [],
   "source": [
    "nfiles = 10\n",
    "ndir=6\n",
    "year = ['1788','1813','1838']\n",
    "year = ['1838']\n",
    "year = linspace(2000,2200,21)\n",
    "nyear = len(year)\n",
    "#eq = ['80','82','84','86','88','90','92','94']\n",
    "neq = 15\n",
    "eqf = linspace(8.0,9.4,neq)\n",
    "\n",
    "\n",
    "nreali = 24\n",
    "max_val = zeros([nyear,neq,nreali])\n",
    "\n",
    "for i in range(nyear):\n",
    "    for j in range(neq):\n",
    "        dummy = '{test:3.2f}'.format(test=eqf[j])\n",
    "        mag_name = dummy.replace('.', '')\n",
    "        for k in range(nreali):\n",
    "            path = str('/work/dragonstooth/weiszr/SLR/run_RCP45NA_{yeara}_{eqa}_{test1:04d}/_output/gauge10010.txt'.format(yeara=int(year[i]),eqa=mag_name,test1=k))\n",
    "            local_f = 'gauge1_RCP45NA_{yeara}_{eqa}_{test1:04d}.dat'.format(yeara=int(year[i]),eqa=mag_name,test1=k)\n",
    "           # print \"\\t\",path,\" -> \", local_f\n",
    "            max_val[i,j,k] = read_data(local_f)\n"
   ]
  },
  {
   "cell_type": "code",
   "execution_count": 10,
   "metadata": {
    "collapsed": false,
    "deletable": true,
    "editable": true
   },
   "outputs": [
    {
     "ename": "NameError",
     "evalue": "name 'a' is not defined",
     "output_type": "error",
     "traceback": [
      "\u001b[0;31m---------------------------------------------------------------------------\u001b[0m",
      "\u001b[0;31mNameError\u001b[0m                                 Traceback (most recent call last)",
      "\u001b[0;32m<ipython-input-10-5a38ee3da452>\u001b[0m in \u001b[0;36m<module>\u001b[0;34m()\u001b[0m\n\u001b[0;32m----> 1\u001b[0;31m \u001b[0ma\u001b[0m\u001b[0;34m=\u001b[0m\u001b[0ma\u001b[0m\u001b[0;34m\u001b[0m\u001b[0m\n\u001b[0m",
      "\u001b[0;31mNameError\u001b[0m: name 'a' is not defined"
     ]
    }
   ],
   "source": [
    "a=a"
   ]
  },
  {
   "cell_type": "code",
   "execution_count": 821,
   "metadata": {
    "collapsed": false,
    "deletable": true,
    "editable": true
   },
   "outputs": [
    {
     "ename": "TypeError",
     "evalue": "'numpy.float64' object is not callable",
     "output_type": "error",
     "traceback": [
      "\u001b[0;31m---------------------------------------------------------------------------\u001b[0m",
      "\u001b[0;31mTypeError\u001b[0m                                 Traceback (most recent call last)",
      "\u001b[0;32m<ipython-input-821-1d3c8bd6bbfa>\u001b[0m in \u001b[0;36m<module>\u001b[0;34m()\u001b[0m\n\u001b[0;32m----> 1\u001b[0;31m \u001b[0;32mprint\u001b[0m \u001b[0mshape\u001b[0m\u001b[0;34m(\u001b[0m\u001b[0mmax_val\u001b[0m\u001b[0;34m)\u001b[0m\u001b[0;34m\u001b[0m\u001b[0m\n\u001b[0m",
      "\u001b[0;31mTypeError\u001b[0m: 'numpy.float64' object is not callable"
     ]
    }
   ],
   "source": [
    "print shape(max_val)\n"
   ]
  },
  {
   "cell_type": "code",
   "execution_count": 872,
   "metadata": {
    "collapsed": false,
    "deletable": true,
    "editable": true
   },
   "outputs": [],
   "source": [
    "t_type = 1\n",
    "x1=0\n",
    "x2=15\n",
    "if t_type == 1:\n",
    "    y2000 = []\n",
    "    y2050 = []\n",
    "    y2100 = []\n",
    "    xy2000 = []\n",
    "    xy2050 = []\n",
    "    xy2100 = []\n",
    "    for i in range(x1,x2):\n",
    "        #for j in range(nreali):\n",
    "        y2000.append(mean(max_val[0,i,:]))\n",
    "        xy2000.append(eqf[i])\n",
    "        y2050.append(mean(max_val[5,i,:]))\n",
    "        xy2050.append(eqf[i])\n",
    "        y2100.append(mean(max_val[10,i,:]))\n",
    "        xy2100.append(eqf[i])\n",
    "if t_type == 2:\n",
    "    y2000 = []\n",
    "    y2100 = []\n",
    "    xy2000 = []\n",
    "    xy2100 = []\n",
    "    for i in range(x1,x2):\n",
    "        for j in range(nreali):\n",
    "            y2000.append(max_val[0,i,j])\n",
    "            xy2000.append(eqf[i])\n",
    "            y2100.append(max_val[5,i,j])\n",
    "            xy2100.append(eqf[i])    \n",
    "    \n",
    "    \n",
    "y2000 = array(y2000)\n",
    "y2050 = array(y2050)\n",
    "y2100 = array(y2100)\n"
   ]
  },
  {
   "cell_type": "code",
   "execution_count": 873,
   "metadata": {
    "collapsed": false,
    "deletable": true,
    "editable": true
   },
   "outputs": [],
   "source": [
    "s = 1\n",
    "\n",
    "\n",
    "if s ==1: \n",
    "    y2000_s = sort(y2000)\n",
    "    y2050_s = sort(y2050)\n",
    "    y2100_s = sort(y2100)\n",
    "if s == 0:\n",
    "    y2000_s = y2000\n",
    "    y2100_s = y2100"
   ]
  },
  {
   "cell_type": "code",
   "execution_count": 874,
   "metadata": {
    "collapsed": false,
    "deletable": true,
    "editable": true
   },
   "outputs": [
    {
     "data": {
      "text/plain": [
       "[<matplotlib.lines.Line2D at 0x15eb16790>]"
      ]
     },
     "execution_count": 874,
     "metadata": {},
     "output_type": "execute_result"
    },
    {
     "data": {
      "image/png": "[encoded data removed]",
      "text/plain": [
       "<matplotlib.figure.Figure at 0x15c3afd50>"
      ]
     },
     "metadata": {},
     "output_type": "display_data"
    }
   ],
   "source": [
    "plot(y2000_s)\n",
    "plot(y2050_s)\n",
    "plot(y2100_s)\n",
    "#plot(y2100.sort())"
   ]
  },
  {
   "cell_type": "code",
   "execution_count": 875,
   "metadata": {
    "collapsed": false,
    "deletable": true,
    "editable": true
   },
   "outputs": [
    {
     "data": {
      "text/plain": [
       "[<matplotlib.lines.Line2D at 0x15fdbce90>]"
      ]
     },
     "execution_count": 875,
     "metadata": {},
     "output_type": "execute_result"
    },
    {
     "data": {
      "image/png": "[encoded data removed]",
      "text/plain": [
       "<matplotlib.figure.Figure at 0x161f4fcd0>"
      ]
     },
     "metadata": {},
     "output_type": "display_data"
    }
   ],
   "source": [
    "plot(xy2000,y2000_s,'ko')\n",
    "plot(xy2050,y2050_s,'ko')\n",
    "plot(xy2100,y2100_s,'go')"
   ]
  },
  {
   "cell_type": "code",
   "execution_count": 833,
   "metadata": {
    "collapsed": false,
    "deletable": true,
    "editable": true
   },
   "outputs": [
    {
     "data": {
      "text/plain": [
       "(array([8, 1, 2, 0, 0, 1, 1, 1, 0, 1]),\n",
       " array([ 0.00302211,  0.06666611,  0.13031011,  0.19395411,  0.25759811,\n",
       "         0.32124211,  0.38488612,  0.44853012,  0.51217412,  0.57581812,\n",
       "         0.63946212]))"
      ]
     },
     "execution_count": 833,
     "metadata": {},
     "output_type": "execute_result"
    }
   ],
   "source": [
    "histogram(y2000_s)"
   ]
  },
  {
   "cell_type": "code",
   "execution_count": 834,
   "metadata": {
    "collapsed": true,
    "deletable": true,
    "editable": true
   },
   "outputs": [],
   "source": [
    "from scipy import signal\n",
    "from scipy import interpolate\n",
    "from scipy.integrate import quad\n",
    "from scipy.optimize import leastsq\n",
    "from scipy import stats\n"
   ]
  },
  {
   "cell_type": "code",
   "execution_count": 835,
   "metadata": {
    "collapsed": false,
    "deletable": true,
    "editable": true
   },
   "outputs": [
    {
     "name": "stdout",
     "output_type": "stream",
     "text": [
      "shape: 5.0\n",
      "scale: 4.0\n"
     ]
    }
   ],
   "source": [
    "def weib(x,n,a):\n",
    "    return (a / n) * (x / n)**(a-1) * np.exp(-(x/n)**a)\n",
    "\n",
    "def residuals(p,x,y):\n",
    "    integral = quad( weib, 0, 16, args=(p[0],p[1]) )[0]\n",
    "    penalization = abs(1.-integral)*100000\n",
    "    return y - weib(x, p[0],p[1]) + penalization\n",
    "\n",
    "shape = params[1]\n",
    "scale = params[3]\n",
    "print 'shape:',shape\n",
    "print 'scale:',scale\n",
    "\n",
    "\n"
   ]
  },
  {
   "cell_type": "code",
   "execution_count": 836,
   "metadata": {
    "collapsed": true,
    "deletable": true,
    "editable": true
   },
   "outputs": [],
   "source": [
    "def weibull(u,shape,scale):\n",
    "    '''Weibull distribution for wind speed u with shape parameter k and scale parameter A'''\n",
    "    return (shape / scale) * (u / scale)**(shape-1) * np.exp(-(u/scale)**shape)\n"
   ]
  },
  {
   "cell_type": "code",
   "execution_count": 876,
   "metadata": {
    "collapsed": false,
    "deletable": true,
    "editable": true
   },
   "outputs": [],
   "source": [
    "from scipy.interpolate import UnivariateSpline\n",
    "n=len(y2100_s)\n",
    "xx=linspace(0.0,3,31)\n",
    "p_2000, x_2000 = histogram(y2000_s, bins=xx,normed=True) # bin it into n = N/10 bins\n",
    "x_2000 = x_2000[:-1] + (x_2000[1] - x_2000[0])/2   # convert bin edges to centers\n",
    "\n",
    "p_2050, x_2050 = histogram(y2050_s, bins=xx,normed=True) # bin it into n = N/10 bins\n",
    "x_2050 = x_2050[:-1] + (x_2050[1] - x_2050[0])/2 \n",
    "\n",
    "p_2100, x_2100 = histogram(y2100_s, bins=xx,normed=True) # bin it into n = N/10 bins\n",
    "x_2100 = x_2100[:-1] + (x_2100[1] - x_2100[0])/2   # convert bin edges to centers\n",
    "\n",
    "\n",
    "\n",
    "\n",
    "\n",
    "\n",
    "\n",
    "#f = UnivariateSpline(x, p, s=10)\n",
    "#plot(x, f(x))\n",
    "#dummy = f(x)\n"
   ]
  },
  {
   "cell_type": "code",
   "execution_count": 877,
   "metadata": {
    "collapsed": false,
    "deletable": true,
    "editable": true
   },
   "outputs": [
    {
     "data": {
      "text/plain": [
       "(array([ 1,  2, 11, 12, 26, 27]),\n",
       " array([ 0.15,  0.25,  1.15,  1.25,  2.65,  2.75]),\n",
       " array([ 0.09608831,  0.04350441,  1.77426175,  1.62402469,  0.09222845,\n",
       "         0.07247083]))"
      ]
     },
     "execution_count": 877,
     "metadata": {},
     "output_type": "execute_result"
    }
   ],
   "source": [
    "from scipy import signal\n",
    "peakind = signal.find_peaks_cwt(dummy, np.arange(1,5))\n",
    "peakind, x[peakind], dummy[peakind]"
   ]
  },
  {
   "cell_type": "code",
   "execution_count": 878,
   "metadata": {
    "collapsed": false,
    "deletable": true,
    "editable": true
   },
   "outputs": [],
   "source": [
    "eqf[8]\n",
    "from scipy.stats import skewnorm"
   ]
  },
  {
   "cell_type": "code",
   "execution_count": 976,
   "metadata": {
    "collapsed": false,
    "deletable": true,
    "editable": true
   },
   "outputs": [
    {
     "data": {
      "image/png": "[encoded data removed]",
      "text/plain": [
       "<matplotlib.figure.Figure at 0x16065fd50>"
      ]
     },
     "metadata": {},
     "output_type": "display_data"
    }
   ],
   "source": [
    "import scipy.stats as stats\n",
    "#fit_alpha, fit_loc, fit_beta=stats.gamma.fit(y2100_s)\n",
    "param = stats.gamma.fit(y2100_s, floc=0)\n",
    "n_x=linspace(0,3.0,1000)\n",
    "\n",
    "\n",
    "mm_2000=sum(p_2000)\n",
    "param_2000 = [7.0, -0.640,0.09]\n",
    "pdf_fitted = stats.gamma.pdf(n_x, *param_2000)\n",
    "plot(n_x, pdf_fitted/3., color='k',label=\"2000\")\n",
    "\n",
    "\n",
    "\n",
    "mm_2050=sum(p_2050)\n",
    "param_2050 = [1.7, 0.17,0.13]\n",
    "pdf_fitted = stats.gamma.pdf(n_x, *param_2050)\n",
    "plot(n_x, pdf_fitted/6., color='b',label=\"2050\")\n",
    "\n",
    "\n",
    "param_2100 = [1.7, 0.35,0.2]\n",
    "pdf_fitted = stats.gamma.pdf(n_x, *param_2100)\n",
    "mm_2100=sum(p_2100)\n",
    "plot(n_x, pdf_fitted/7.6, color='r',label=\"2100\")\n",
    "\n",
    "legend(loc='upper left', bbox_to_anchor=(0.2,0.98), fancybox=True, shadow=False, ncol=4, numpoints=1)\n",
    "\n",
    "# plot the histogram\n",
    "# plot(x_2100, p_2100/mm_2100, 'ro')\n",
    "# plot(x_2050, p_2050/mm_2050, 'bo')\n",
    "# plot(x_2000, p_2000/mm_2000, 'ko')\n",
    "xlim(0,2)\n",
    "#ylim(-0.5,1)\n",
    "xlabel(\"Flood level [m]\",size=25)\n",
    "ylabel(\"Density [']\",size=25)\n",
    "savefig('flood_level_prob.png',dpi=501, bbox_inches=\"tight\")"
   ]
  },
  {
   "cell_type": "code",
   "execution_count": 871,
   "metadata": {
    "collapsed": false,
    "deletable": true,
    "editable": true
   },
   "outputs": [
    {
     "data": {
      "text/plain": [
       "2100.0"
      ]
     },
     "execution_count": 871,
     "metadata": {},
     "output_type": "execute_result"
    }
   ],
   "source": [
    "year[10]"
   ]
  },
  {
   "cell_type": "code",
   "execution_count": 979,
   "metadata": {
    "collapsed": false,
    "deletable": true,
    "editable": true
   },
   "outputs": [
    {
     "name": "stdout",
     "output_type": "stream",
     "text": [
      "year_2000.dat\n",
      "year_2010.dat\n",
      "year_2020.dat\n",
      "year_2030.dat\n",
      "year_2040.dat\n",
      "year_2050.dat\n",
      "year_2060.dat\n",
      "year_2070.dat\n",
      "year_2080.dat\n",
      "year_2090.dat\n",
      "year_2100.dat\n",
      "year_2110.dat\n",
      "year_2120.dat\n",
      "year_2130.dat\n",
      "year_2140.dat\n",
      "year_2150.dat\n",
      "year_2160.dat\n",
      "year_2170.dat\n",
      "year_2180.dat\n",
      "year_2190.dat\n",
      "year_2200.dat\n"
     ]
    }
   ],
   "source": [
    "for i in range(nyear):\n",
    "    fname=\"year_{year}.dat\".format(year=str(int(year[i])))\n",
    "    print fname\n",
    "    outfile=open(fname,'w')\n",
    "    savetxt(outfile, max_val[i,:,:].T,fmt='%6.3e')\n",
    "    outfile.close()\n",
    "\n",
    "\n",
    "    #     for j in range(neq):\n",
    "#         dummy = '{test:3.2f}'.format(test=eqf[j])\n",
    "#         mag_name = dummy.replace('.', '')\n",
    "#         for k in range(nreali):"
   ]
  },
  {
   "cell_type": "code",
   "execution_count": null,
   "metadata": {
    "collapsed": true,
    "deletable": true,
    "editable": true
   },
   "outputs": [],
   "source": []
  }
 ],
 "metadata": {
  "kernelspec": {
   "display_name": "Python 2",
   "language": "python",
   "name": "python2"
  },
  "language_info": {
   "codemirror_mode": {
    "name": "ipython",
    "version": 2
   },
   "file_extension": ".py",
   "mimetype": "text/x-python",
   "name": "python",
   "nbconvert_exporter": "python",
   "pygments_lexer": "ipython2",
   "version": "2.7.11"
  }
 },
 "nbformat": 4,
 "nbformat_minor": 2
}
